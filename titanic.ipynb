{
 "cells": [
  {
   "cell_type": "code",
   "execution_count": 2,
   "metadata": {},
   "outputs": [],
   "source": [
    "import numpy as np \n",
    "import pandas as pd\n",
    "import matplotlib.pyplot as plt\n",
    "import seaborn as sns\n",
    "from sklearn.preprocessing import StandardScaler ,LabelEncoder\n",
    "from sklearn.linear_model import LogisticRegression \n",
    "from sklearn import svm \n",
    "from sklearn.ensemble import RandomForestClassifier \n",
    "from sklearn.neighbors import KNeighborsClassifier \n",
    "from sklearn.naive_bayes import GaussianNB \n",
    "from sklearn.tree import DecisionTreeClassifier \n",
    "from sklearn.model_selection import train_test_split \n",
    "from sklearn import metrics \n",
    "from sklearn.metrics import confusion_matrix ,classification_report\n",
    "import warnings\n",
    "warnings.filterwarnings('ignore')\n",
    "%matplotlib inline"
   ]
  },
  {
   "cell_type": "code",
   "execution_count": 4,
   "metadata": {},
   "outputs": [],
   "source": [
    "train_data=pd.read_csv('train_Titanic.csv')\n",
    "test_data=pd.read_csv('test_Titanic.csv')\n",
    "train_pass=train_data.shape[0]"
   ]
  },
  {
   "cell_type": "code",
   "execution_count": 5,
   "metadata": {},
   "outputs": [
    {
     "data": {
      "text/html": [
       "<div>\n",
       "<style scoped>\n",
       "    .dataframe tbody tr th:only-of-type {\n",
       "        vertical-align: middle;\n",
       "    }\n",
       "\n",
       "    .dataframe tbody tr th {\n",
       "        vertical-align: top;\n",
       "    }\n",
       "\n",
       "    .dataframe thead th {\n",
       "        text-align: right;\n",
       "    }\n",
       "</style>\n",
       "<table border=\"1\" class=\"dataframe\">\n",
       "  <thead>\n",
       "    <tr style=\"text-align: right;\">\n",
       "      <th></th>\n",
       "      <th>PassengerId</th>\n",
       "      <th>Survived</th>\n",
       "      <th>Pclass</th>\n",
       "      <th>Name</th>\n",
       "      <th>Sex</th>\n",
       "      <th>Age</th>\n",
       "      <th>SibSp</th>\n",
       "      <th>Parch</th>\n",
       "      <th>Ticket</th>\n",
       "      <th>Fare</th>\n",
       "      <th>Cabin</th>\n",
       "      <th>Embarked</th>\n",
       "    </tr>\n",
       "  </thead>\n",
       "  <tbody>\n",
       "    <tr>\n",
       "      <th>0</th>\n",
       "      <td>1</td>\n",
       "      <td>0</td>\n",
       "      <td>3</td>\n",
       "      <td>Braund, Mr. Owen Harris</td>\n",
       "      <td>male</td>\n",
       "      <td>22.0</td>\n",
       "      <td>1</td>\n",
       "      <td>0</td>\n",
       "      <td>A/5 21171</td>\n",
       "      <td>7.2500</td>\n",
       "      <td>NaN</td>\n",
       "      <td>S</td>\n",
       "    </tr>\n",
       "    <tr>\n",
       "      <th>1</th>\n",
       "      <td>2</td>\n",
       "      <td>1</td>\n",
       "      <td>1</td>\n",
       "      <td>Cumings, Mrs. John Bradley (Florence Briggs Th...</td>\n",
       "      <td>female</td>\n",
       "      <td>38.0</td>\n",
       "      <td>1</td>\n",
       "      <td>0</td>\n",
       "      <td>PC 17599</td>\n",
       "      <td>71.2833</td>\n",
       "      <td>C85</td>\n",
       "      <td>C</td>\n",
       "    </tr>\n",
       "    <tr>\n",
       "      <th>2</th>\n",
       "      <td>3</td>\n",
       "      <td>1</td>\n",
       "      <td>3</td>\n",
       "      <td>Heikkinen, Miss. Laina</td>\n",
       "      <td>female</td>\n",
       "      <td>26.0</td>\n",
       "      <td>0</td>\n",
       "      <td>0</td>\n",
       "      <td>STON/O2. 3101282</td>\n",
       "      <td>7.9250</td>\n",
       "      <td>NaN</td>\n",
       "      <td>S</td>\n",
       "    </tr>\n",
       "    <tr>\n",
       "      <th>3</th>\n",
       "      <td>4</td>\n",
       "      <td>1</td>\n",
       "      <td>1</td>\n",
       "      <td>Futrelle, Mrs. Jacques Heath (Lily May Peel)</td>\n",
       "      <td>female</td>\n",
       "      <td>35.0</td>\n",
       "      <td>1</td>\n",
       "      <td>0</td>\n",
       "      <td>113803</td>\n",
       "      <td>53.1000</td>\n",
       "      <td>C123</td>\n",
       "      <td>S</td>\n",
       "    </tr>\n",
       "    <tr>\n",
       "      <th>4</th>\n",
       "      <td>5</td>\n",
       "      <td>0</td>\n",
       "      <td>3</td>\n",
       "      <td>Allen, Mr. William Henry</td>\n",
       "      <td>male</td>\n",
       "      <td>35.0</td>\n",
       "      <td>0</td>\n",
       "      <td>0</td>\n",
       "      <td>373450</td>\n",
       "      <td>8.0500</td>\n",
       "      <td>NaN</td>\n",
       "      <td>S</td>\n",
       "    </tr>\n",
       "  </tbody>\n",
       "</table>\n",
       "</div>"
      ],
      "text/plain": [
       "   PassengerId  Survived  Pclass  \\\n",
       "0            1         0       3   \n",
       "1            2         1       1   \n",
       "2            3         1       3   \n",
       "3            4         1       1   \n",
       "4            5         0       3   \n",
       "\n",
       "                                                Name     Sex   Age  SibSp  \\\n",
       "0                            Braund, Mr. Owen Harris    male  22.0      1   \n",
       "1  Cumings, Mrs. John Bradley (Florence Briggs Th...  female  38.0      1   \n",
       "2                             Heikkinen, Miss. Laina  female  26.0      0   \n",
       "3       Futrelle, Mrs. Jacques Heath (Lily May Peel)  female  35.0      1   \n",
       "4                           Allen, Mr. William Henry    male  35.0      0   \n",
       "\n",
       "   Parch            Ticket     Fare Cabin Embarked  \n",
       "0      0         A/5 21171   7.2500   NaN        S  \n",
       "1      0          PC 17599  71.2833   C85        C  \n",
       "2      0  STON/O2. 3101282   7.9250   NaN        S  \n",
       "3      0            113803  53.1000  C123        S  \n",
       "4      0            373450   8.0500   NaN        S  "
      ]
     },
     "execution_count": 5,
     "metadata": {},
     "output_type": "execute_result"
    }
   ],
   "source": [
    "train_data.head()"
   ]
  },
  {
   "cell_type": "code",
   "execution_count": 7,
   "metadata": {},
   "outputs": [
    {
     "data": {
      "text/html": [
       "<div>\n",
       "<style scoped>\n",
       "    .dataframe tbody tr th:only-of-type {\n",
       "        vertical-align: middle;\n",
       "    }\n",
       "\n",
       "    .dataframe tbody tr th {\n",
       "        vertical-align: top;\n",
       "    }\n",
       "\n",
       "    .dataframe thead th {\n",
       "        text-align: right;\n",
       "    }\n",
       "</style>\n",
       "<table border=\"1\" class=\"dataframe\">\n",
       "  <thead>\n",
       "    <tr style=\"text-align: right;\">\n",
       "      <th></th>\n",
       "      <th>PassengerId</th>\n",
       "      <th>Survived</th>\n",
       "      <th>Pclass</th>\n",
       "      <th>Age</th>\n",
       "      <th>SibSp</th>\n",
       "      <th>Parch</th>\n",
       "      <th>Fare</th>\n",
       "    </tr>\n",
       "  </thead>\n",
       "  <tbody>\n",
       "    <tr>\n",
       "      <th>count</th>\n",
       "      <td>891.000000</td>\n",
       "      <td>891.000000</td>\n",
       "      <td>891.000000</td>\n",
       "      <td>714.000000</td>\n",
       "      <td>891.000000</td>\n",
       "      <td>891.000000</td>\n",
       "      <td>891.000000</td>\n",
       "    </tr>\n",
       "    <tr>\n",
       "      <th>mean</th>\n",
       "      <td>446.000000</td>\n",
       "      <td>0.383838</td>\n",
       "      <td>2.308642</td>\n",
       "      <td>29.699118</td>\n",
       "      <td>0.523008</td>\n",
       "      <td>0.381594</td>\n",
       "      <td>32.204208</td>\n",
       "    </tr>\n",
       "    <tr>\n",
       "      <th>std</th>\n",
       "      <td>257.353842</td>\n",
       "      <td>0.486592</td>\n",
       "      <td>0.836071</td>\n",
       "      <td>14.526497</td>\n",
       "      <td>1.102743</td>\n",
       "      <td>0.806057</td>\n",
       "      <td>49.693429</td>\n",
       "    </tr>\n",
       "    <tr>\n",
       "      <th>min</th>\n",
       "      <td>1.000000</td>\n",
       "      <td>0.000000</td>\n",
       "      <td>1.000000</td>\n",
       "      <td>0.420000</td>\n",
       "      <td>0.000000</td>\n",
       "      <td>0.000000</td>\n",
       "      <td>0.000000</td>\n",
       "    </tr>\n",
       "    <tr>\n",
       "      <th>25%</th>\n",
       "      <td>223.500000</td>\n",
       "      <td>0.000000</td>\n",
       "      <td>2.000000</td>\n",
       "      <td>20.125000</td>\n",
       "      <td>0.000000</td>\n",
       "      <td>0.000000</td>\n",
       "      <td>7.910400</td>\n",
       "    </tr>\n",
       "    <tr>\n",
       "      <th>50%</th>\n",
       "      <td>446.000000</td>\n",
       "      <td>0.000000</td>\n",
       "      <td>3.000000</td>\n",
       "      <td>28.000000</td>\n",
       "      <td>0.000000</td>\n",
       "      <td>0.000000</td>\n",
       "      <td>14.454200</td>\n",
       "    </tr>\n",
       "    <tr>\n",
       "      <th>75%</th>\n",
       "      <td>668.500000</td>\n",
       "      <td>1.000000</td>\n",
       "      <td>3.000000</td>\n",
       "      <td>38.000000</td>\n",
       "      <td>1.000000</td>\n",
       "      <td>0.000000</td>\n",
       "      <td>31.000000</td>\n",
       "    </tr>\n",
       "    <tr>\n",
       "      <th>max</th>\n",
       "      <td>891.000000</td>\n",
       "      <td>1.000000</td>\n",
       "      <td>3.000000</td>\n",
       "      <td>80.000000</td>\n",
       "      <td>8.000000</td>\n",
       "      <td>6.000000</td>\n",
       "      <td>512.329200</td>\n",
       "    </tr>\n",
       "  </tbody>\n",
       "</table>\n",
       "</div>"
      ],
      "text/plain": [
       "       PassengerId    Survived      Pclass         Age       SibSp  \\\n",
       "count   891.000000  891.000000  891.000000  714.000000  891.000000   \n",
       "mean    446.000000    0.383838    2.308642   29.699118    0.523008   \n",
       "std     257.353842    0.486592    0.836071   14.526497    1.102743   \n",
       "min       1.000000    0.000000    1.000000    0.420000    0.000000   \n",
       "25%     223.500000    0.000000    2.000000   20.125000    0.000000   \n",
       "50%     446.000000    0.000000    3.000000   28.000000    0.000000   \n",
       "75%     668.500000    1.000000    3.000000   38.000000    1.000000   \n",
       "max     891.000000    1.000000    3.000000   80.000000    8.000000   \n",
       "\n",
       "            Parch        Fare  \n",
       "count  891.000000  891.000000  \n",
       "mean     0.381594   32.204208  \n",
       "std      0.806057   49.693429  \n",
       "min      0.000000    0.000000  \n",
       "25%      0.000000    7.910400  \n",
       "50%      0.000000   14.454200  \n",
       "75%      0.000000   31.000000  \n",
       "max      6.000000  512.329200  "
      ]
     },
     "execution_count": 7,
     "metadata": {},
     "output_type": "execute_result"
    }
   ],
   "source": [
    "train_data.describe()"
   ]
  },
  {
   "cell_type": "code",
   "execution_count": 8,
   "metadata": {},
   "outputs": [],
   "source": [
    "train_data.loc[(train_data.Age >=0)  & (train_data.Age <=9),'age_group'] = '0-9'\n",
    "train_data.loc[(train_data.Age >=10) &(train_data.Age <=19),'age_group'] = '10-19'\n",
    "train_data.loc[(train_data.Age >=20) & (train_data.Age <=29),'age_group'] = '20-29'\n",
    "train_data.loc[(train_data.Age >=30) & (train_data.Age <=39),'age_group'] = '30-39'\n",
    "train_data.loc[(train_data.Age >=40) & (train_data.Age <=49),'age_group'] = '40-49'\n",
    "train_data.loc[(train_data.Age >=50) & (train_data.Age <=59),'age_group'] = '50-59'\n",
    "train_data.loc[(train_data.Age >=60) & (train_data.Age <=69),'age_group'] = '60-69'\n",
    "train_data.loc[(train_data.Age >=70) & (train_data.Age <=80),'age_group'] = '70-80'"
   ]
  },
  {
   "cell_type": "code",
   "execution_count": 9,
   "metadata": {},
   "outputs": [
    {
     "data": {
      "text/html": [
       "<style  type=\"text/css\" >\n",
       "#T_6780651f_95c0_11eb_a4dc_509a4cc456bcrow0_col0,#T_6780651f_95c0_11eb_a4dc_509a4cc456bcrow1_col1,#T_6780651f_95c0_11eb_a4dc_509a4cc456bcrow1_col2,#T_6780651f_95c0_11eb_a4dc_509a4cc456bcrow1_col3,#T_6780651f_95c0_11eb_a4dc_509a4cc456bcrow1_col4,#T_6780651f_95c0_11eb_a4dc_509a4cc456bcrow1_col5,#T_6780651f_95c0_11eb_a4dc_509a4cc456bcrow1_col6,#T_6780651f_95c0_11eb_a4dc_509a4cc456bcrow1_col7{\n",
       "            background-color:  #ffffd9;\n",
       "            color:  #000000;\n",
       "        }#T_6780651f_95c0_11eb_a4dc_509a4cc456bcrow0_col1,#T_6780651f_95c0_11eb_a4dc_509a4cc456bcrow0_col2,#T_6780651f_95c0_11eb_a4dc_509a4cc456bcrow0_col3,#T_6780651f_95c0_11eb_a4dc_509a4cc456bcrow0_col4,#T_6780651f_95c0_11eb_a4dc_509a4cc456bcrow0_col5,#T_6780651f_95c0_11eb_a4dc_509a4cc456bcrow0_col6,#T_6780651f_95c0_11eb_a4dc_509a4cc456bcrow0_col7,#T_6780651f_95c0_11eb_a4dc_509a4cc456bcrow1_col0{\n",
       "            background-color:  #081d58;\n",
       "            color:  #f1f1f1;\n",
       "        }</style><table id=\"T_6780651f_95c0_11eb_a4dc_509a4cc456bc\" ><thead>    <tr>        <th class=\"index_name level0\" >Age_Group</th>        <th class=\"col_heading level0 col0\" >0-9</th>        <th class=\"col_heading level0 col1\" >10-19</th>        <th class=\"col_heading level0 col2\" >20-29</th>        <th class=\"col_heading level0 col3\" >30-39</th>        <th class=\"col_heading level0 col4\" >40-49</th>        <th class=\"col_heading level0 col5\" >50-59</th>        <th class=\"col_heading level0 col6\" >60-69</th>        <th class=\"col_heading level0 col7\" >70-80</th>    </tr>    <tr>        <th class=\"index_name level0\" >Survived ?</th>        <th class=\"blank\" ></th>        <th class=\"blank\" ></th>        <th class=\"blank\" ></th>        <th class=\"blank\" ></th>        <th class=\"blank\" ></th>        <th class=\"blank\" ></th>        <th class=\"blank\" ></th>        <th class=\"blank\" ></th>    </tr></thead><tbody>\n",
       "                <tr>\n",
       "                        <th id=\"T_6780651f_95c0_11eb_a4dc_509a4cc456bclevel0_row0\" class=\"row_heading level0 row0\" >Not-survived</th>\n",
       "                        <td id=\"T_6780651f_95c0_11eb_a4dc_509a4cc456bcrow0_col0\" class=\"data row0 col0\" >24</td>\n",
       "                        <td id=\"T_6780651f_95c0_11eb_a4dc_509a4cc456bcrow0_col1\" class=\"data row0 col1\" >61</td>\n",
       "                        <td id=\"T_6780651f_95c0_11eb_a4dc_509a4cc456bcrow0_col2\" class=\"data row0 col2\" >143</td>\n",
       "                        <td id=\"T_6780651f_95c0_11eb_a4dc_509a4cc456bcrow0_col3\" class=\"data row0 col3\" >94</td>\n",
       "                        <td id=\"T_6780651f_95c0_11eb_a4dc_509a4cc456bcrow0_col4\" class=\"data row0 col4\" >55</td>\n",
       "                        <td id=\"T_6780651f_95c0_11eb_a4dc_509a4cc456bcrow0_col5\" class=\"data row0 col5\" >28</td>\n",
       "                        <td id=\"T_6780651f_95c0_11eb_a4dc_509a4cc456bcrow0_col6\" class=\"data row0 col6\" >13</td>\n",
       "                        <td id=\"T_6780651f_95c0_11eb_a4dc_509a4cc456bcrow0_col7\" class=\"data row0 col7\" >6</td>\n",
       "            </tr>\n",
       "            <tr>\n",
       "                        <th id=\"T_6780651f_95c0_11eb_a4dc_509a4cc456bclevel0_row1\" class=\"row_heading level0 row1\" >Survived</th>\n",
       "                        <td id=\"T_6780651f_95c0_11eb_a4dc_509a4cc456bcrow1_col0\" class=\"data row1 col0\" >38</td>\n",
       "                        <td id=\"T_6780651f_95c0_11eb_a4dc_509a4cc456bcrow1_col1\" class=\"data row1 col1\" >41</td>\n",
       "                        <td id=\"T_6780651f_95c0_11eb_a4dc_509a4cc456bcrow1_col2\" class=\"data row1 col2\" >77</td>\n",
       "                        <td id=\"T_6780651f_95c0_11eb_a4dc_509a4cc456bcrow1_col3\" class=\"data row1 col3\" >73</td>\n",
       "                        <td id=\"T_6780651f_95c0_11eb_a4dc_509a4cc456bcrow1_col4\" class=\"data row1 col4\" >34</td>\n",
       "                        <td id=\"T_6780651f_95c0_11eb_a4dc_509a4cc456bcrow1_col5\" class=\"data row1 col5\" >20</td>\n",
       "                        <td id=\"T_6780651f_95c0_11eb_a4dc_509a4cc456bcrow1_col6\" class=\"data row1 col6\" >6</td>\n",
       "                        <td id=\"T_6780651f_95c0_11eb_a4dc_509a4cc456bcrow1_col7\" class=\"data row1 col7\" >1</td>\n",
       "            </tr>\n",
       "    </tbody></table>"
      ],
      "text/plain": [
       "<pandas.io.formats.style.Styler at 0x2257ff46c70>"
      ]
     },
     "metadata": {},
     "output_type": "display_data"
    }
   ],
   "source": [
    "age_group=train_data.groupby(['age_group'])['Survived'].value_counts().unstack(-2)\n",
    "\n",
    "age_group.rename(index={1: 'Survived',0:'Not-survived'}, inplace=True)\n",
    "age_group.index.name = 'Survived ?'\n",
    "age_group.columns.name = 'Age_Group'\n",
    "display(age_group.style.background_gradient(cmap='YlGnBu'))"
   ]
  },
  {
   "cell_type": "code",
   "execution_count": 10,
   "metadata": {},
   "outputs": [
    {
     "data": {
      "text/html": [
       "<style  type=\"text/css\" >\n",
       "#T_68fa9266_95c0_11eb_aa19_509a4cc456bcrow0_col0{\n",
       "            background-color:  #f9fdcb;\n",
       "            color:  #000000;\n",
       "        }#T_68fa9266_95c0_11eb_aa19_509a4cc456bcrow0_col1,#T_68fa9266_95c0_11eb_aa19_509a4cc456bcrow0_col2,#T_68fa9266_95c0_11eb_aa19_509a4cc456bcrow0_col3,#T_68fa9266_95c0_11eb_aa19_509a4cc456bcrow1_col0,#T_68fa9266_95c0_11eb_aa19_509a4cc456bcrow4_col6,#T_68fa9266_95c0_11eb_aa19_509a4cc456bcrow4_col7,#T_68fa9266_95c0_11eb_aa19_509a4cc456bcrow5_col4,#T_68fa9266_95c0_11eb_aa19_509a4cc456bcrow5_col5,#T_68fa9266_95c0_11eb_aa19_509a4cc456bcrow5_col6,#T_68fa9266_95c0_11eb_aa19_509a4cc456bcrow5_col7{\n",
       "            background-color:  #ffffd9;\n",
       "            color:  #000000;\n",
       "        }#T_68fa9266_95c0_11eb_aa19_509a4cc456bcrow0_col4{\n",
       "            background-color:  #63c3bf;\n",
       "            color:  #000000;\n",
       "        }#T_68fa9266_95c0_11eb_aa19_509a4cc456bcrow0_col5{\n",
       "            background-color:  #234da0;\n",
       "            color:  #f1f1f1;\n",
       "        }#T_68fa9266_95c0_11eb_aa19_509a4cc456bcrow0_col6,#T_68fa9266_95c0_11eb_aa19_509a4cc456bcrow0_col7,#T_68fa9266_95c0_11eb_aa19_509a4cc456bcrow2_col0,#T_68fa9266_95c0_11eb_aa19_509a4cc456bcrow2_col1,#T_68fa9266_95c0_11eb_aa19_509a4cc456bcrow2_col2,#T_68fa9266_95c0_11eb_aa19_509a4cc456bcrow2_col3,#T_68fa9266_95c0_11eb_aa19_509a4cc456bcrow2_col4,#T_68fa9266_95c0_11eb_aa19_509a4cc456bcrow3_col5{\n",
       "            background-color:  #081d58;\n",
       "            color:  #f1f1f1;\n",
       "        }#T_68fa9266_95c0_11eb_aa19_509a4cc456bcrow1_col1,#T_68fa9266_95c0_11eb_aa19_509a4cc456bcrow4_col1,#T_68fa9266_95c0_11eb_aa19_509a4cc456bcrow4_col2{\n",
       "            background-color:  #ecf7b1;\n",
       "            color:  #000000;\n",
       "        }#T_68fa9266_95c0_11eb_aa19_509a4cc456bcrow1_col2,#T_68fa9266_95c0_11eb_aa19_509a4cc456bcrow5_col2{\n",
       "            background-color:  #ceecb3;\n",
       "            color:  #000000;\n",
       "        }#T_68fa9266_95c0_11eb_aa19_509a4cc456bcrow1_col3{\n",
       "            background-color:  #69c5be;\n",
       "            color:  #000000;\n",
       "        }#T_68fa9266_95c0_11eb_aa19_509a4cc456bcrow1_col4{\n",
       "            background-color:  #d6efb3;\n",
       "            color:  #000000;\n",
       "        }#T_68fa9266_95c0_11eb_aa19_509a4cc456bcrow1_col5,#T_68fa9266_95c0_11eb_aa19_509a4cc456bcrow2_col7,#T_68fa9266_95c0_11eb_aa19_509a4cc456bcrow3_col4{\n",
       "            background-color:  #1f80b8;\n",
       "            color:  #000000;\n",
       "        }#T_68fa9266_95c0_11eb_aa19_509a4cc456bcrow1_col6,#T_68fa9266_95c0_11eb_aa19_509a4cc456bcrow2_col6{\n",
       "            background-color:  #edf8b1;\n",
       "            color:  #000000;\n",
       "        }#T_68fa9266_95c0_11eb_aa19_509a4cc456bcrow1_col7,#T_68fa9266_95c0_11eb_aa19_509a4cc456bcrow3_col7,#T_68fa9266_95c0_11eb_aa19_509a4cc456bcrow4_col5{\n",
       "            background-color:  #97d6b9;\n",
       "            color:  #000000;\n",
       "        }#T_68fa9266_95c0_11eb_aa19_509a4cc456bcrow2_col5{\n",
       "            background-color:  #73c8bd;\n",
       "            color:  #000000;\n",
       "        }#T_68fa9266_95c0_11eb_aa19_509a4cc456bcrow3_col0{\n",
       "            background-color:  #f3fabd;\n",
       "            color:  #000000;\n",
       "        }#T_68fa9266_95c0_11eb_aa19_509a4cc456bcrow3_col1{\n",
       "            background-color:  #c2e7b4;\n",
       "            color:  #000000;\n",
       "        }#T_68fa9266_95c0_11eb_aa19_509a4cc456bcrow3_col2{\n",
       "            background-color:  #e6f5b2;\n",
       "            color:  #000000;\n",
       "        }#T_68fa9266_95c0_11eb_aa19_509a4cc456bcrow3_col3{\n",
       "            background-color:  #1e86bb;\n",
       "            color:  #000000;\n",
       "        }#T_68fa9266_95c0_11eb_aa19_509a4cc456bcrow3_col6{\n",
       "            background-color:  #7ecdbb;\n",
       "            color:  #000000;\n",
       "        }#T_68fa9266_95c0_11eb_aa19_509a4cc456bcrow4_col0{\n",
       "            background-color:  #2262aa;\n",
       "            color:  #f1f1f1;\n",
       "        }#T_68fa9266_95c0_11eb_aa19_509a4cc456bcrow4_col3{\n",
       "            background-color:  #dbf1b2;\n",
       "            color:  #000000;\n",
       "        }#T_68fa9266_95c0_11eb_aa19_509a4cc456bcrow4_col4{\n",
       "            background-color:  #bde5b5;\n",
       "            color:  #000000;\n",
       "        }#T_68fa9266_95c0_11eb_aa19_509a4cc456bcrow5_col0{\n",
       "            background-color:  #24449c;\n",
       "            color:  #f1f1f1;\n",
       "        }#T_68fa9266_95c0_11eb_aa19_509a4cc456bcrow5_col1{\n",
       "            background-color:  #a9ddb7;\n",
       "            color:  #000000;\n",
       "        }#T_68fa9266_95c0_11eb_aa19_509a4cc456bcrow5_col3{\n",
       "            background-color:  #f2fabc;\n",
       "            color:  #000000;\n",
       "        }</style><table id=\"T_68fa9266_95c0_11eb_aa19_509a4cc456bc\" ><thead>    <tr>        <th class=\"blank\" ></th>        <th class=\"index_name level0\" >age_group</th>        <th class=\"col_heading level0 col0\" >0-9</th>        <th class=\"col_heading level0 col1\" >10-19</th>        <th class=\"col_heading level0 col2\" >20-29</th>        <th class=\"col_heading level0 col3\" >30-39</th>        <th class=\"col_heading level0 col4\" >40-49</th>        <th class=\"col_heading level0 col5\" >50-59</th>        <th class=\"col_heading level0 col6\" >60-69</th>        <th class=\"col_heading level0 col7\" >70-80</th>    </tr>    <tr>        <th class=\"index_name level0\" >Survived</th>        <th class=\"index_name level1\" >Pclass</th>        <th class=\"blank\" ></th>        <th class=\"blank\" ></th>        <th class=\"blank\" ></th>        <th class=\"blank\" ></th>        <th class=\"blank\" ></th>        <th class=\"blank\" ></th>        <th class=\"blank\" ></th>        <th class=\"blank\" ></th>    </tr></thead><tbody>\n",
       "                <tr>\n",
       "                        <th id=\"T_68fa9266_95c0_11eb_aa19_509a4cc456bclevel0_row0\" class=\"row_heading level0 row0\" rowspan=3>0</th>\n",
       "                        <th id=\"T_68fa9266_95c0_11eb_aa19_509a4cc456bclevel1_row0\" class=\"row_heading level1 row0\" >1</th>\n",
       "                        <td id=\"T_68fa9266_95c0_11eb_aa19_509a4cc456bcrow0_col0\" class=\"data row0 col0\" >1</td>\n",
       "                        <td id=\"T_68fa9266_95c0_11eb_aa19_509a4cc456bcrow0_col1\" class=\"data row0 col1\" >3</td>\n",
       "                        <td id=\"T_68fa9266_95c0_11eb_aa19_509a4cc456bcrow0_col2\" class=\"data row0 col2\" >10</td>\n",
       "                        <td id=\"T_68fa9266_95c0_11eb_aa19_509a4cc456bcrow0_col3\" class=\"data row0 col3\" >11</td>\n",
       "                        <td id=\"T_68fa9266_95c0_11eb_aa19_509a4cc456bcrow0_col4\" class=\"data row0 col4\" >15</td>\n",
       "                        <td id=\"T_68fa9266_95c0_11eb_aa19_509a4cc456bcrow0_col5\" class=\"data row0 col5\" >12</td>\n",
       "                        <td id=\"T_68fa9266_95c0_11eb_aa19_509a4cc456bcrow0_col6\" class=\"data row0 col6\" >9</td>\n",
       "                        <td id=\"T_68fa9266_95c0_11eb_aa19_509a4cc456bcrow0_col7\" class=\"data row0 col7\" >3</td>\n",
       "            </tr>\n",
       "            <tr>\n",
       "                                <th id=\"T_68fa9266_95c0_11eb_aa19_509a4cc456bclevel1_row1\" class=\"row_heading level1 row1\" >2</th>\n",
       "                        <td id=\"T_68fa9266_95c0_11eb_aa19_509a4cc456bcrow1_col0\" class=\"data row1 col0\" >0</td>\n",
       "                        <td id=\"T_68fa9266_95c0_11eb_aa19_509a4cc456bcrow1_col1\" class=\"data row1 col1\" >9</td>\n",
       "                        <td id=\"T_68fa9266_95c0_11eb_aa19_509a4cc456bcrow1_col2\" class=\"data row1 col2\" >31</td>\n",
       "                        <td id=\"T_68fa9266_95c0_11eb_aa19_509a4cc456bcrow1_col3\" class=\"data row1 col3\" >29</td>\n",
       "                        <td id=\"T_68fa9266_95c0_11eb_aa19_509a4cc456bcrow1_col4\" class=\"data row1 col4\" >8</td>\n",
       "                        <td id=\"T_68fa9266_95c0_11eb_aa19_509a4cc456bcrow1_col5\" class=\"data row1 col5\" >10</td>\n",
       "                        <td id=\"T_68fa9266_95c0_11eb_aa19_509a4cc456bcrow1_col6\" class=\"data row1 col6\" >2</td>\n",
       "                        <td id=\"T_68fa9266_95c0_11eb_aa19_509a4cc456bcrow1_col7\" class=\"data row1 col7\" >1</td>\n",
       "            </tr>\n",
       "            <tr>\n",
       "                                <th id=\"T_68fa9266_95c0_11eb_aa19_509a4cc456bclevel1_row2\" class=\"row_heading level1 row2\" >3</th>\n",
       "                        <td id=\"T_68fa9266_95c0_11eb_aa19_509a4cc456bcrow2_col0\" class=\"data row2 col0\" >23</td>\n",
       "                        <td id=\"T_68fa9266_95c0_11eb_aa19_509a4cc456bcrow2_col1\" class=\"data row2 col1\" >49</td>\n",
       "                        <td id=\"T_68fa9266_95c0_11eb_aa19_509a4cc456bcrow2_col2\" class=\"data row2 col2\" >102</td>\n",
       "                        <td id=\"T_68fa9266_95c0_11eb_aa19_509a4cc456bcrow2_col3\" class=\"data row2 col3\" >54</td>\n",
       "                        <td id=\"T_68fa9266_95c0_11eb_aa19_509a4cc456bcrow2_col4\" class=\"data row2 col4\" >32</td>\n",
       "                        <td id=\"T_68fa9266_95c0_11eb_aa19_509a4cc456bcrow2_col5\" class=\"data row2 col5\" >6</td>\n",
       "                        <td id=\"T_68fa9266_95c0_11eb_aa19_509a4cc456bcrow2_col6\" class=\"data row2 col6\" >2</td>\n",
       "                        <td id=\"T_68fa9266_95c0_11eb_aa19_509a4cc456bcrow2_col7\" class=\"data row2 col7\" >2</td>\n",
       "            </tr>\n",
       "            <tr>\n",
       "                        <th id=\"T_68fa9266_95c0_11eb_aa19_509a4cc456bclevel0_row3\" class=\"row_heading level0 row3\" rowspan=3>1</th>\n",
       "                        <th id=\"T_68fa9266_95c0_11eb_aa19_509a4cc456bclevel1_row3\" class=\"row_heading level1 row3\" >1</th>\n",
       "                        <td id=\"T_68fa9266_95c0_11eb_aa19_509a4cc456bcrow3_col0\" class=\"data row3 col0\" >2</td>\n",
       "                        <td id=\"T_68fa9266_95c0_11eb_aa19_509a4cc456bcrow3_col1\" class=\"data row3 col1\" >15</td>\n",
       "                        <td id=\"T_68fa9266_95c0_11eb_aa19_509a4cc456bcrow3_col2\" class=\"data row3 col2\" >24</td>\n",
       "                        <td id=\"T_68fa9266_95c0_11eb_aa19_509a4cc456bcrow3_col3\" class=\"data row3 col3\" >39</td>\n",
       "                        <td id=\"T_68fa9266_95c0_11eb_aa19_509a4cc456bcrow3_col4\" class=\"data row3 col4\" >22</td>\n",
       "                        <td id=\"T_68fa9266_95c0_11eb_aa19_509a4cc456bcrow3_col5\" class=\"data row3 col5\" >15</td>\n",
       "                        <td id=\"T_68fa9266_95c0_11eb_aa19_509a4cc456bcrow3_col6\" class=\"data row3 col6\" >4</td>\n",
       "                        <td id=\"T_68fa9266_95c0_11eb_aa19_509a4cc456bcrow3_col7\" class=\"data row3 col7\" >1</td>\n",
       "            </tr>\n",
       "            <tr>\n",
       "                                <th id=\"T_68fa9266_95c0_11eb_aa19_509a4cc456bclevel1_row4\" class=\"row_heading level1 row4\" >2</th>\n",
       "                        <td id=\"T_68fa9266_95c0_11eb_aa19_509a4cc456bcrow4_col0\" class=\"data row4 col0\" >17</td>\n",
       "                        <td id=\"T_68fa9266_95c0_11eb_aa19_509a4cc456bcrow4_col1\" class=\"data row4 col1\" >9</td>\n",
       "                        <td id=\"T_68fa9266_95c0_11eb_aa19_509a4cc456bcrow4_col2\" class=\"data row4 col2\" >22</td>\n",
       "                        <td id=\"T_68fa9266_95c0_11eb_aa19_509a4cc456bcrow4_col3\" class=\"data row4 col3\" >19</td>\n",
       "                        <td id=\"T_68fa9266_95c0_11eb_aa19_509a4cc456bcrow4_col4\" class=\"data row4 col4\" >10</td>\n",
       "                        <td id=\"T_68fa9266_95c0_11eb_aa19_509a4cc456bcrow4_col5\" class=\"data row4 col5\" >5</td>\n",
       "                        <td id=\"T_68fa9266_95c0_11eb_aa19_509a4cc456bcrow4_col6\" class=\"data row4 col6\" >1</td>\n",
       "                        <td id=\"T_68fa9266_95c0_11eb_aa19_509a4cc456bcrow4_col7\" class=\"data row4 col7\" >0</td>\n",
       "            </tr>\n",
       "            <tr>\n",
       "                                <th id=\"T_68fa9266_95c0_11eb_aa19_509a4cc456bclevel1_row5\" class=\"row_heading level1 row5\" >3</th>\n",
       "                        <td id=\"T_68fa9266_95c0_11eb_aa19_509a4cc456bcrow5_col0\" class=\"data row5 col0\" >19</td>\n",
       "                        <td id=\"T_68fa9266_95c0_11eb_aa19_509a4cc456bcrow5_col1\" class=\"data row5 col1\" >17</td>\n",
       "                        <td id=\"T_68fa9266_95c0_11eb_aa19_509a4cc456bcrow5_col2\" class=\"data row5 col2\" >31</td>\n",
       "                        <td id=\"T_68fa9266_95c0_11eb_aa19_509a4cc456bcrow5_col3\" class=\"data row5 col3\" >15</td>\n",
       "                        <td id=\"T_68fa9266_95c0_11eb_aa19_509a4cc456bcrow5_col4\" class=\"data row5 col4\" >2</td>\n",
       "                        <td id=\"T_68fa9266_95c0_11eb_aa19_509a4cc456bcrow5_col5\" class=\"data row5 col5\" >0</td>\n",
       "                        <td id=\"T_68fa9266_95c0_11eb_aa19_509a4cc456bcrow5_col6\" class=\"data row5 col6\" >1</td>\n",
       "                        <td id=\"T_68fa9266_95c0_11eb_aa19_509a4cc456bcrow5_col7\" class=\"data row5 col7\" >0</td>\n",
       "            </tr>\n",
       "    </tbody></table>"
      ],
      "text/plain": [
       "<pandas.io.formats.style.Styler at 0x2257fd8c4f0>"
      ]
     },
     "metadata": {},
     "output_type": "display_data"
    }
   ],
   "source": [
    "age_group=train_data.groupby(['age_group','Survived'])['Pclass'].value_counts().unstack(0)\n",
    "age_group=age_group.fillna(0)\n",
    "age_group=age_group.astype(int)\n",
    "display(age_group.style.background_gradient(cmap='YlGnBu'))"
   ]
  },
  {
   "cell_type": "code",
   "execution_count": null,
   "metadata": {},
   "outputs": [],
   "source": [
    "#Category that affected Srirving rate"
   ]
  },
  {
   "cell_type": "code",
   "execution_count": 11,
   "metadata": {},
   "outputs": [
    {
     "name": "stdout",
     "output_type": "stream",
     "text": [
      "the percentage of survived %\n",
      " Pclass\n",
      "1    62.962963\n",
      "2    47.282609\n",
      "3    24.236253\n",
      "dtype: float64 \n",
      "------------------------------\n",
      "the percentage of survived %\n",
      " Sex\n",
      "female    74.203822\n",
      "male      18.890815\n",
      "dtype: float64 \n",
      "------------------------------\n",
      "the percentage of survived %\n",
      " SibSp\n",
      "0    34.539474\n",
      "1    53.588517\n",
      "2    46.428571\n",
      "3    25.000000\n",
      "4    16.666667\n",
      "5          NaN\n",
      "8          NaN\n",
      "dtype: float64 \n",
      "------------------------------\n",
      "the percentage of survived %\n",
      " Parch\n",
      "0    34.365782\n",
      "1    55.084746\n",
      "2    50.000000\n",
      "3    60.000000\n",
      "4          NaN\n",
      "5    20.000000\n",
      "6          NaN\n",
      "dtype: float64 \n",
      "------------------------------\n",
      "the percentage of survived %\n",
      " age_group\n",
      "0-9      61.290323\n",
      "10-19    40.196078\n",
      "20-29    35.000000\n",
      "30-39    43.712575\n",
      "40-49    38.202247\n",
      "50-59    41.666667\n",
      "60-69    31.578947\n",
      "70-80    14.285714\n",
      "dtype: float64 \n",
      "------------------------------\n"
     ]
    }
   ],
   "source": [
    "cols=['Pclass',\"Sex\",\"SibSp\",\"Parch\",'age_group']\n",
    "Data=pd.DataFrame()\n",
    "for i in cols:\n",
    "    Data=train_data.groupby(i)['Survived'].value_counts().unstack()[1]/train_data.groupby(i)['Survived'].size()*100\n",
    "    print('the percentage of survived %\\n', Data,'\\n------------------------------')"
   ]
  },
  {
   "cell_type": "code",
   "execution_count": 12,
   "metadata": {},
   "outputs": [
    {
     "data": {
      "image/png": "[encoded data removed]",
      "text/plain": [
       "<Figure size 1440x720 with 2 Axes>"
      ]
     },
     "metadata": {
      "needs_background": "light"
     },
     "output_type": "display_data"
    }
   ],
   "source": [
    "data=train_data['Sex'].value_counts()\n",
    "labels=data.index\n",
    "data1=pd.DataFrame()\n",
    "for i in range(labels.size):\n",
    "    data1[labels[i]]=train_data.loc[(train_data.Sex ==labels[i])]['Survived'].value_counts()\n",
    "\n",
    "X0=data1.loc[0]\n",
    "X1=data1.loc[1]\n",
    "fig, (ax1, ax2) = plt.subplots(1, 2, figsize=(20, 10))\n",
    "fig.subplots_adjust(wspace=0)\n",
    "ax2.set_title('Sex Ratio')\n",
    "ax2.pie(data,explode=[0,0.05],autopct='%1.1f%%',labels=data.index)\n",
    "ax1.bar(labels, X0,color='black')\n",
    "ax1.bar(labels, X1,bottom=X0,color='blue')\n",
    "ax1.legend(labels=['Not_Survived', 'Survived'])\n",
    "ax1.set_title('Sex Count Across Survived')\n",
    "plt.show()"
   ]
  },
  {
   "cell_type": "code",
   "execution_count": 13,
   "metadata": {},
   "outputs": [
    {
     "data": {
      "image/png": "[encoded data removed]",
      "text/plain": [
       "<Figure size 1440x720 with 2 Axes>"
      ]
     },
     "metadata": {
      "needs_background": "light"
     },
     "output_type": "display_data"
    }
   ],
   "source": [
    "data=train_data['age_group'].value_counts()\n",
    "labels=data.index\n",
    "data1=pd.DataFrame()\n",
    "for i in range(labels.size):\n",
    "    data1[labels[i]]=train_data.loc[(train_data.age_group ==labels[i])]['Survived'].value_counts()\n",
    "\n",
    "X0=data1.loc[0]\n",
    "X1=data1.loc[1]\n",
    "plt.style.use('bmh')\n",
    "fig, (ax1, ax2) = plt.subplots(1, 2, figsize=(20, 10))\n",
    "fig.subplots_adjust(wspace=0)\n",
    "ax2.set_title('Age-Group Ratior')\n",
    "ax2.pie(data, explode=[0,0,0.03,0.03,0.03,0.03,0.03,0.03], autopct='%2.2f%%',labels=data.index)\n",
    "ax1.bar(labels, X0,color='black')\n",
    "ax1.bar(labels, X1,bottom=X0,color='blue')\n",
    "ax1.legend(labels=['Not_Survived', 'Survived'])\n",
    "ax1.set_title('Age-Group Count Across Survived')\n",
    "\n",
    "plt.show()"
   ]
  },
  {
   "cell_type": "code",
   "execution_count": null,
   "metadata": {},
   "outputs": [],
   "source": [
    "#PreProcessing Data"
   ]
  },
  {
   "cell_type": "code",
   "execution_count": null,
   "metadata": {},
   "outputs": [],
   "source": []
  },
  {
   "cell_type": "code",
   "execution_count": 16,
   "metadata": {},
   "outputs": [],
   "source": [
    "target=train_data['Survived']\n",
    "All_Features=pd.concat([train_data,test_data]).reset_index(drop=True)\n"
   ]
  },
  {
   "cell_type": "code",
   "execution_count": 17,
   "metadata": {},
   "outputs": [],
   "source": [
    "All_Features['Title']=0\n",
    "for i in All_Features:\n",
    "    All_Features['Title']=All_Features.Name.str.extract('([A-Za-z]+)\\.')  "
   ]
  },
  {
   "cell_type": "code",
   "execution_count": 18,
   "metadata": {},
   "outputs": [
    {
     "data": {
      "text/plain": [
       "Mr          757\n",
       "Miss        260\n",
       "Mrs         197\n",
       "Master       61\n",
       "Dr            8\n",
       "Rev           8\n",
       "Col           4\n",
       "Mlle          2\n",
       "Major         2\n",
       "Ms            2\n",
       "Lady          1\n",
       "Sir           1\n",
       "Mme           1\n",
       "Countess      1\n",
       "Capt          1\n",
       "Jonkheer      1\n",
       "Dona          1\n",
       "Don           1\n",
       "Name: Title, dtype: int64"
      ]
     },
     "execution_count": 18,
     "metadata": {},
     "output_type": "execute_result"
    }
   ],
   "source": [
    "All_Features['Title'].value_counts()"
   ]
  },
  {
   "cell_type": "code",
   "execution_count": 19,
   "metadata": {},
   "outputs": [],
   "source": [
    "def missing_values(data):\n",
    "    total=data.isnull().sum()\n",
    "    percent=total/data.isnull().count()*100\n",
    "    missing_values=(pd.concat([total,percent],axis=1,keys=['Total','Precent'])).sort_values(['Total'],ascending=False)\n",
    "    missing_values=missing_values.drop((missing_values[missing_values['Total']==0]).index,0)\n",
    "    return missing_values"
   ]
  },
  {
   "cell_type": "code",
   "execution_count": 20,
   "metadata": {
    "scrolled": true
   },
   "outputs": [
    {
     "data": {
      "text/html": [
       "<style  type=\"text/css\" >\n",
       "#T_826e072e_95c0_11eb_8598_509a4cc456bcrow0_col0,#T_826e072e_95c0_11eb_8598_509a4cc456bcrow0_col1{\n",
       "            background-color:  #08306b;\n",
       "            color:  #f1f1f1;\n",
       "        }#T_826e072e_95c0_11eb_8598_509a4cc456bcrow1_col0,#T_826e072e_95c0_11eb_8598_509a4cc456bcrow1_col1{\n",
       "            background-color:  #4e9acb;\n",
       "            color:  #000000;\n",
       "        }#T_826e072e_95c0_11eb_8598_509a4cc456bcrow2_col0,#T_826e072e_95c0_11eb_8598_509a4cc456bcrow2_col1{\n",
       "            background-color:  #8fc2de;\n",
       "            color:  #000000;\n",
       "        }#T_826e072e_95c0_11eb_8598_509a4cc456bcrow3_col0,#T_826e072e_95c0_11eb_8598_509a4cc456bcrow3_col1{\n",
       "            background-color:  #c3daee;\n",
       "            color:  #000000;\n",
       "        }#T_826e072e_95c0_11eb_8598_509a4cc456bcrow4_col0,#T_826e072e_95c0_11eb_8598_509a4cc456bcrow4_col1{\n",
       "            background-color:  #f7fbff;\n",
       "            color:  #000000;\n",
       "        }</style><table id=\"T_826e072e_95c0_11eb_8598_509a4cc456bc\" ><thead>    <tr>        <th class=\"blank level0\" ></th>        <th class=\"col_heading level0 col0\" >Total</th>        <th class=\"col_heading level0 col1\" >Precent</th>    </tr></thead><tbody>\n",
       "                <tr>\n",
       "                        <th id=\"T_826e072e_95c0_11eb_8598_509a4cc456bclevel0_row0\" class=\"row_heading level0 row0\" >Cabin</th>\n",
       "                        <td id=\"T_826e072e_95c0_11eb_8598_509a4cc456bcrow0_col0\" class=\"data row0 col0\" >1014</td>\n",
       "                        <td id=\"T_826e072e_95c0_11eb_8598_509a4cc456bcrow0_col1\" class=\"data row0 col1\" >77.463713</td>\n",
       "            </tr>\n",
       "            <tr>\n",
       "                        <th id=\"T_826e072e_95c0_11eb_8598_509a4cc456bclevel0_row1\" class=\"row_heading level0 row1\" >age_group</th>\n",
       "                        <td id=\"T_826e072e_95c0_11eb_8598_509a4cc456bcrow1_col0\" class=\"data row1 col0\" >595</td>\n",
       "                        <td id=\"T_826e072e_95c0_11eb_8598_509a4cc456bcrow1_col1\" class=\"data row1 col1\" >45.454545</td>\n",
       "            </tr>\n",
       "            <tr>\n",
       "                        <th id=\"T_826e072e_95c0_11eb_8598_509a4cc456bclevel0_row2\" class=\"row_heading level0 row2\" >Survived</th>\n",
       "                        <td id=\"T_826e072e_95c0_11eb_8598_509a4cc456bcrow2_col0\" class=\"data row2 col0\" >418</td>\n",
       "                        <td id=\"T_826e072e_95c0_11eb_8598_509a4cc456bcrow2_col1\" class=\"data row2 col1\" >31.932773</td>\n",
       "            </tr>\n",
       "            <tr>\n",
       "                        <th id=\"T_826e072e_95c0_11eb_8598_509a4cc456bclevel0_row3\" class=\"row_heading level0 row3\" >Age</th>\n",
       "                        <td id=\"T_826e072e_95c0_11eb_8598_509a4cc456bcrow3_col0\" class=\"data row3 col0\" >263</td>\n",
       "                        <td id=\"T_826e072e_95c0_11eb_8598_509a4cc456bcrow3_col1\" class=\"data row3 col1\" >20.091673</td>\n",
       "            </tr>\n",
       "            <tr>\n",
       "                        <th id=\"T_826e072e_95c0_11eb_8598_509a4cc456bclevel0_row4\" class=\"row_heading level0 row4\" >Embarked</th>\n",
       "                        <td id=\"T_826e072e_95c0_11eb_8598_509a4cc456bcrow4_col0\" class=\"data row4 col0\" >2</td>\n",
       "                        <td id=\"T_826e072e_95c0_11eb_8598_509a4cc456bcrow4_col1\" class=\"data row4 col1\" >0.152788</td>\n",
       "            </tr>\n",
       "    </tbody></table>"
      ],
      "text/plain": [
       "<pandas.io.formats.style.Styler at 0x2257fd9af40>"
      ]
     },
     "metadata": {},
     "output_type": "display_data"
    }
   ],
   "source": [
    "display(missing_values(All_Features).head().style.background_gradient(cmap='Blues'))"
   ]
  },
  {
   "cell_type": "code",
   "execution_count": null,
   "metadata": {},
   "outputs": [],
   "source": []
  },
  {
   "cell_type": "code",
   "execution_count": 21,
   "metadata": {},
   "outputs": [],
   "source": [
    "All_Features['Age']=All_Features.groupby(['Sex','Pclass'])['Age'].apply(lambda x:x.fillna(x.median()))"
   ]
  },
  {
   "cell_type": "code",
   "execution_count": 22,
   "metadata": {},
   "outputs": [],
   "source": [
    "All_Features['Embarked']=All_Features['Embarked'].fillna('S')"
   ]
  },
  {
   "cell_type": "code",
   "execution_count": 23,
   "metadata": {},
   "outputs": [],
   "source": [
    "All_Features['Fare']=All_Features.groupby(['Sex','Pclass'])['Fare'].apply(lambda x:x.fillna(x.median()))"
   ]
  },
  {
   "cell_type": "code",
   "execution_count": 24,
   "metadata": {},
   "outputs": [],
   "source": [
    "All_Features=All_Features.drop(['Cabin','Ticket','Name','PassengerId'],axis=1)"
   ]
  },
  {
   "cell_type": "code",
   "execution_count": 25,
   "metadata": {},
   "outputs": [
    {
     "data": {
      "text/html": [
       "<div>\n",
       "<style scoped>\n",
       "    .dataframe tbody tr th:only-of-type {\n",
       "        vertical-align: middle;\n",
       "    }\n",
       "\n",
       "    .dataframe tbody tr th {\n",
       "        vertical-align: top;\n",
       "    }\n",
       "\n",
       "    .dataframe thead th {\n",
       "        text-align: right;\n",
       "    }\n",
       "</style>\n",
       "<table border=\"1\" class=\"dataframe\">\n",
       "  <thead>\n",
       "    <tr style=\"text-align: right;\">\n",
       "      <th></th>\n",
       "      <th>Total</th>\n",
       "      <th>Precent</th>\n",
       "    </tr>\n",
       "  </thead>\n",
       "  <tbody>\n",
       "    <tr>\n",
       "      <th>age_group</th>\n",
       "      <td>595</td>\n",
       "      <td>45.454545</td>\n",
       "    </tr>\n",
       "    <tr>\n",
       "      <th>Survived</th>\n",
       "      <td>418</td>\n",
       "      <td>31.932773</td>\n",
       "    </tr>\n",
       "  </tbody>\n",
       "</table>\n",
       "</div>"
      ],
      "text/plain": [
       "           Total    Precent\n",
       "age_group    595  45.454545\n",
       "Survived     418  31.932773"
      ]
     },
     "execution_count": 25,
     "metadata": {},
     "output_type": "execute_result"
    }
   ],
   "source": [
    "missing_values(All_Features).head()"
   ]
  },
  {
   "cell_type": "code",
   "execution_count": 26,
   "metadata": {},
   "outputs": [],
   "source": [
    "#added New features "
   ]
  },
  {
   "cell_type": "code",
   "execution_count": 27,
   "metadata": {},
   "outputs": [],
   "source": [
    "All_Features['Family_Size']=All_Features['SibSp']+All_Features['Parch']\n",
    "All_Features.loc[(All_Features.Family_Size == 0),'Solo_Passanger'] = 1\n",
    "All_Features.loc[(All_Features.Family_Size > 0),'Solo_Passanger'] = 0"
   ]
  },
  {
   "cell_type": "code",
   "execution_count": 28,
   "metadata": {},
   "outputs": [
    {
     "data": {
      "text/plain": [
       "1.0    790\n",
       "0.0    519\n",
       "Name: Solo_Passanger, dtype: int64"
      ]
     },
     "execution_count": 28,
     "metadata": {},
     "output_type": "execute_result"
    }
   ],
   "source": [
    "All_Features['Solo_Passanger'].value_counts()"
   ]
  },
  {
   "cell_type": "code",
   "execution_count": 29,
   "metadata": {},
   "outputs": [],
   "source": [
    "#Encoding Categorical columns"
   ]
  },
  {
   "cell_type": "code",
   "execution_count": 30,
   "metadata": {},
   "outputs": [],
   "source": [
    "col=['Sex','Title','Embarked']\n",
    "for i in col:\n",
    "    All_Features[i]=LabelEncoder().fit_transform(All_Features[i])"
   ]
  },
  {
   "cell_type": "code",
   "execution_count": 31,
   "metadata": {},
   "outputs": [
    {
     "data": {
      "text/html": [
       "<div>\n",
       "<style scoped>\n",
       "    .dataframe tbody tr th:only-of-type {\n",
       "        vertical-align: middle;\n",
       "    }\n",
       "\n",
       "    .dataframe tbody tr th {\n",
       "        vertical-align: top;\n",
       "    }\n",
       "\n",
       "    .dataframe thead th {\n",
       "        text-align: right;\n",
       "    }\n",
       "</style>\n",
       "<table border=\"1\" class=\"dataframe\">\n",
       "  <thead>\n",
       "    <tr style=\"text-align: right;\">\n",
       "      <th></th>\n",
       "      <th>Survived</th>\n",
       "      <th>Pclass</th>\n",
       "      <th>Sex</th>\n",
       "      <th>Age</th>\n",
       "      <th>SibSp</th>\n",
       "      <th>Parch</th>\n",
       "      <th>Fare</th>\n",
       "      <th>Embarked</th>\n",
       "      <th>Title</th>\n",
       "      <th>Family_Size</th>\n",
       "      <th>Solo_Passanger</th>\n",
       "      <th>age_group_0-9</th>\n",
       "      <th>age_group_10-19</th>\n",
       "      <th>age_group_20-29</th>\n",
       "      <th>age_group_30-39</th>\n",
       "      <th>age_group_40-49</th>\n",
       "      <th>age_group_50-59</th>\n",
       "      <th>age_group_60-69</th>\n",
       "      <th>age_group_70-80</th>\n",
       "    </tr>\n",
       "  </thead>\n",
       "  <tbody>\n",
       "    <tr>\n",
       "      <th>0</th>\n",
       "      <td>0.0</td>\n",
       "      <td>3</td>\n",
       "      <td>1</td>\n",
       "      <td>22.0</td>\n",
       "      <td>1</td>\n",
       "      <td>0</td>\n",
       "      <td>7.2500</td>\n",
       "      <td>2</td>\n",
       "      <td>13</td>\n",
       "      <td>1</td>\n",
       "      <td>0.0</td>\n",
       "      <td>0</td>\n",
       "      <td>0</td>\n",
       "      <td>1</td>\n",
       "      <td>0</td>\n",
       "      <td>0</td>\n",
       "      <td>0</td>\n",
       "      <td>0</td>\n",
       "      <td>0</td>\n",
       "    </tr>\n",
       "    <tr>\n",
       "      <th>1</th>\n",
       "      <td>1.0</td>\n",
       "      <td>1</td>\n",
       "      <td>0</td>\n",
       "      <td>38.0</td>\n",
       "      <td>1</td>\n",
       "      <td>0</td>\n",
       "      <td>71.2833</td>\n",
       "      <td>0</td>\n",
       "      <td>14</td>\n",
       "      <td>1</td>\n",
       "      <td>0.0</td>\n",
       "      <td>0</td>\n",
       "      <td>0</td>\n",
       "      <td>0</td>\n",
       "      <td>1</td>\n",
       "      <td>0</td>\n",
       "      <td>0</td>\n",
       "      <td>0</td>\n",
       "      <td>0</td>\n",
       "    </tr>\n",
       "    <tr>\n",
       "      <th>2</th>\n",
       "      <td>1.0</td>\n",
       "      <td>3</td>\n",
       "      <td>0</td>\n",
       "      <td>26.0</td>\n",
       "      <td>0</td>\n",
       "      <td>0</td>\n",
       "      <td>7.9250</td>\n",
       "      <td>2</td>\n",
       "      <td>10</td>\n",
       "      <td>0</td>\n",
       "      <td>1.0</td>\n",
       "      <td>0</td>\n",
       "      <td>0</td>\n",
       "      <td>1</td>\n",
       "      <td>0</td>\n",
       "      <td>0</td>\n",
       "      <td>0</td>\n",
       "      <td>0</td>\n",
       "      <td>0</td>\n",
       "    </tr>\n",
       "    <tr>\n",
       "      <th>3</th>\n",
       "      <td>1.0</td>\n",
       "      <td>1</td>\n",
       "      <td>0</td>\n",
       "      <td>35.0</td>\n",
       "      <td>1</td>\n",
       "      <td>0</td>\n",
       "      <td>53.1000</td>\n",
       "      <td>2</td>\n",
       "      <td>14</td>\n",
       "      <td>1</td>\n",
       "      <td>0.0</td>\n",
       "      <td>0</td>\n",
       "      <td>0</td>\n",
       "      <td>0</td>\n",
       "      <td>1</td>\n",
       "      <td>0</td>\n",
       "      <td>0</td>\n",
       "      <td>0</td>\n",
       "      <td>0</td>\n",
       "    </tr>\n",
       "    <tr>\n",
       "      <th>4</th>\n",
       "      <td>0.0</td>\n",
       "      <td>3</td>\n",
       "      <td>1</td>\n",
       "      <td>35.0</td>\n",
       "      <td>0</td>\n",
       "      <td>0</td>\n",
       "      <td>8.0500</td>\n",
       "      <td>2</td>\n",
       "      <td>13</td>\n",
       "      <td>0</td>\n",
       "      <td>1.0</td>\n",
       "      <td>0</td>\n",
       "      <td>0</td>\n",
       "      <td>0</td>\n",
       "      <td>1</td>\n",
       "      <td>0</td>\n",
       "      <td>0</td>\n",
       "      <td>0</td>\n",
       "      <td>0</td>\n",
       "    </tr>\n",
       "  </tbody>\n",
       "</table>\n",
       "</div>"
      ],
      "text/plain": [
       "   Survived  Pclass  Sex   Age  SibSp  Parch     Fare  Embarked  Title  \\\n",
       "0       0.0       3    1  22.0      1      0   7.2500         2     13   \n",
       "1       1.0       1    0  38.0      1      0  71.2833         0     14   \n",
       "2       1.0       3    0  26.0      0      0   7.9250         2     10   \n",
       "3       1.0       1    0  35.0      1      0  53.1000         2     14   \n",
       "4       0.0       3    1  35.0      0      0   8.0500         2     13   \n",
       "\n",
       "   Family_Size  Solo_Passanger  age_group_0-9  age_group_10-19  \\\n",
       "0            1             0.0              0                0   \n",
       "1            1             0.0              0                0   \n",
       "2            0             1.0              0                0   \n",
       "3            1             0.0              0                0   \n",
       "4            0             1.0              0                0   \n",
       "\n",
       "   age_group_20-29  age_group_30-39  age_group_40-49  age_group_50-59  \\\n",
       "0                1                0                0                0   \n",
       "1                0                1                0                0   \n",
       "2                1                0                0                0   \n",
       "3                0                1                0                0   \n",
       "4                0                1                0                0   \n",
       "\n",
       "   age_group_60-69  age_group_70-80  \n",
       "0                0                0  \n",
       "1                0                0  \n",
       "2                0                0  \n",
       "3                0                0  \n",
       "4                0                0  "
      ]
     },
     "execution_count": 31,
     "metadata": {},
     "output_type": "execute_result"
    }
   ],
   "source": [
    "All_Features=pd.get_dummies(All_Features)\n",
    "All_Features.head()"
   ]
  },
  {
   "cell_type": "code",
   "execution_count": 32,
   "metadata": {},
   "outputs": [
    {
     "name": "stdout",
     "output_type": "stream",
     "text": [
      "All_Features shape: (1309, 17)\n"
     ]
    }
   ],
   "source": [
    "All_Features=All_Features.drop(['Survived','Age'],axis=1)\n",
    "All_Features_SL = StandardScaler().fit_transform(All_Features)\n",
    "print('All_Features shape: {}'.format(All_Features.shape))"
   ]
  },
  {
   "cell_type": "code",
   "execution_count": 33,
   "metadata": {},
   "outputs": [
    {
     "name": "stdout",
     "output_type": "stream",
     "text": [
      "train shape: (891, 17)\n",
      "test shape: (418, 17)\n",
      "target shape: (891,)\n"
     ]
    }
   ],
   "source": [
    "train=All_Features_SL[:train_pass]\n",
    "test=All_Features_SL[train_pass:]\n",
    "print('train shape: {}'.format(train.shape))\n",
    "print('test shape: {}'.format(test.shape))\n",
    "print('target shape: {}'.format(target.shape))"
   ]
  },
  {
   "cell_type": "code",
   "execution_count": 34,
   "metadata": {},
   "outputs": [],
   "source": [
    "#Feature importance"
   ]
  },
  {
   "cell_type": "code",
   "execution_count": 35,
   "metadata": {},
   "outputs": [
    {
     "data": {
      "image/png": "[encoded data removed]",
      "text/plain": [
       "<Figure size 864x720 with 1 Axes>"
      ]
     },
     "metadata": {},
     "output_type": "display_data"
    }
   ],
   "source": [
    "model = RandomForestClassifier(criterion='gini',n_estimators=1750,max_depth=7,min_samples_split=6,min_samples_leaf=6,\n",
    "max_features='auto',oob_score=True,random_state=42,n_jobs=-1)\n",
    "model.fit(All_Features[:target.shape[0]],target)\n",
    "\n",
    "with plt.style.context('dark_background'):\n",
    "    plt.figure(figsize=(12, 10))\n",
    "    features=pd.Series(model.feature_importances_,All_Features.columns).sort_values(ascending=True)\n",
    "    plt.barh(features.index ,features.values,color='red')\n",
    "    plt.title('Feature Importances')\n",
    "plt.show()"
   ]
  },
  {
   "cell_type": "code",
   "execution_count": 36,
   "metadata": {},
   "outputs": [],
   "source": [
    "x_train,x_test,y_train,y_test=train_test_split(train,target,test_size=.33,random_state=42,shuffle=True)"
   ]
  },
  {
   "cell_type": "code",
   "execution_count": 37,
   "metadata": {},
   "outputs": [
    {
     "name": "stdout",
     "output_type": "stream",
     "text": [
      "[[-1.54609786  0.74349692 -0.47908676 ...  5.1255081  -0.12136178\n",
      "  -0.07332356]\n",
      " [ 0.84191642  0.74349692 -0.47908676 ... -0.19510261 -0.12136178\n",
      "  -0.07332356]\n",
      " [-0.35209072  0.74349692  0.48128777 ... -0.19510261 -0.12136178\n",
      "  -0.07332356]\n",
      " ...\n",
      " [ 0.84191642  0.74349692  1.4416623  ... -0.19510261 -0.12136178\n",
      "  -0.07332356]\n",
      " [-1.54609786 -1.34499549  0.48128777 ... -0.19510261 -0.12136178\n",
      "  -0.07332356]\n",
      " [-1.54609786  0.74349692 -0.47908676 ... -0.19510261 -0.12136178\n",
      "  -0.07332356]]\n"
     ]
    }
   ],
   "source": [
    "print(x_train)"
   ]
  },
  {
   "cell_type": "code",
   "execution_count": 38,
   "metadata": {},
   "outputs": [],
   "source": [
    "#Logistic regression"
   ]
  },
  {
   "cell_type": "code",
   "execution_count": 39,
   "metadata": {},
   "outputs": [
    {
     "name": "stdout",
     "output_type": "stream",
     "text": [
      "Accuracy for  LogisticRegression is  0.8067796610169492\n"
     ]
    },
    {
     "data": {
      "image/png": "[encoded data removed]",
      "text/plain": [
       "<Figure size 720x576 with 2 Axes>"
      ]
     },
     "metadata": {
      "needs_background": "light"
     },
     "output_type": "display_data"
    }
   ],
   "source": [
    "model=LogisticRegression()\n",
    "model.fit(x_train,y_train)\n",
    "pred=model.predict(x_test)\n",
    "print('Accuracy for  LogisticRegression is ',metrics.accuracy_score(pred,y_test))\n",
    "plt.figure(figsize=(10,8))\n",
    "ax= plt.subplot()\n",
    "sns.heatmap(confusion_matrix(y_test,pred), annot=True, ax = ax, fmt='g',cmap='YlGnBu') \n",
    "ax.set_title('Confusion Matrix')\n",
    "plt.show()"
   ]
  },
  {
   "cell_type": "code",
   "execution_count": 40,
   "metadata": {},
   "outputs": [],
   "source": [
    "#Decision Tree"
   ]
  },
  {
   "cell_type": "code",
   "execution_count": 41,
   "metadata": {},
   "outputs": [
    {
     "name": "stdout",
     "output_type": "stream",
     "text": [
      "Accuracy for DecisionTreeClassifier is  0.7898305084745763\n"
     ]
    },
    {
     "data": {
      "image/png": "[encoded data removed]",
      "text/plain": [
       "<Figure size 720x576 with 2 Axes>"
      ]
     },
     "metadata": {
      "needs_background": "light"
     },
     "output_type": "display_data"
    }
   ],
   "source": [
    "model=DecisionTreeClassifier()\n",
    "model.fit(x_train,y_train)\n",
    "pred=model.predict(x_test)\n",
    "print('Accuracy for DecisionTreeClassifier is ',metrics.accuracy_score(pred,y_test))\n",
    "\n",
    "plt.figure(figsize=(10,8))\n",
    "ax= plt.subplot()\n",
    "sns.heatmap(confusion_matrix(y_test,pred), annot=True, ax = ax, fmt='g',cmap='YlGnBu') \n",
    "ax.set_title('Confusion Matrix')\n",
    "plt.show()"
   ]
  },
  {
   "cell_type": "code",
   "execution_count": 42,
   "metadata": {},
   "outputs": [],
   "source": [
    "#Random Forest Classifier"
   ]
  },
  {
   "cell_type": "code",
   "execution_count": 44,
   "metadata": {},
   "outputs": [
    {
     "name": "stdout",
     "output_type": "stream",
     "text": [
      "Accuracy for RandomForestClassifier is  0.823728813559322\n"
     ]
    },
    {
     "data": {
      "image/png": "[encoded data removed]",
      "text/plain": [
       "<Figure size 720x504 with 2 Axes>"
      ]
     },
     "metadata": {
      "needs_background": "light"
     },
     "output_type": "display_data"
    }
   ],
   "source": [
    "model = RandomForestClassifier(criterion='gini',n_estimators=1750,max_depth=7,min_samples_split=6,min_samples_leaf=6,\n",
    "max_features='auto',oob_score=True,random_state=42,n_jobs=-1)\n",
    "model.fit(x_train,y_train)\n",
    "pred=model.predict(x_test)\n",
    "print('Accuracy for RandomForestClassifier is ',metrics.accuracy_score(pred,y_test))\n",
    "\n",
    "plt.figure(figsize=(10,7))\n",
    "ax= plt.subplot()\n",
    "sns.heatmap(confusion_matrix(y_test,pred), annot=True, ax = ax, fmt='g',cmap='YlGnBu') \n",
    "ax.set_title('Confusion Matrix')\n",
    "plt.show()"
   ]
  },
  {
   "cell_type": "code",
   "execution_count": null,
   "metadata": {},
   "outputs": [],
   "source": []
  },
  {
   "cell_type": "code",
   "execution_count": null,
   "metadata": {},
   "outputs": [],
   "source": []
  }
 ],
 "metadata": {
  "kernelspec": {
   "display_name": "Python 3",
   "language": "python",
   "name": "python3"
  },
  "language_info": {
   "codemirror_mode": {
    "name": "ipython",
    "version": 3
   },
   "file_extension": ".py",
   "mimetype": "text/x-python",
   "name": "python",
   "nbconvert_exporter": "python",
   "pygments_lexer": "ipython3",
   "version": "3.8.5"
  }
 },
 "nbformat": 4,
 "nbformat_minor": 4
}
